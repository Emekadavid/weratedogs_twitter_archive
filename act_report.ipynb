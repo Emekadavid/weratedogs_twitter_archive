{
 "cells": [
  {
   "attachments": {},
   "cell_type": "markdown",
   "metadata": {},
   "source": [
    "## Report on the visualizations and insights"
   ]
  },
  {
   "attachments": {},
   "cell_type": "markdown",
   "metadata": {},
   "source": [
    "There were a lot of insights derived from the data. I will highlight each of the insights in form of the questions that the data set out to answer. "
   ]
  },
  {
   "attachments": {},
   "cell_type": "markdown",
   "metadata": {},
   "source": [
    "## What words did the tweet author use most frequently? \n",
    "\n",
    "It was found that the words \"dog\" and dog_stages like \"doggo\" and \"pupper\" were among the most frequently used words. Also, links on posts were very high on the tweets. Words like \"help\" were also frequently used. This tells us the state of mind of the author. His posts were about dogs and things related to dogs. He likes using images a lot. \n",
    "\n",
    "\n",
    "![Word cloud](./images/wordcloud_image.png)"
   ]
  },
  {
   "attachments": {},
   "cell_type": "markdown",
   "metadata": {},
   "source": [
    "## What apps does the tweet author use most frequently? \n",
    "\n",
    "It was found that the twitter app on iPhone was used all the time by the tweet author. It was used about 94 percent of the time while other apps were used on rare occasions. \n",
    "\n"
   ]
  },
  {
   "attachments": {},
   "cell_type": "markdown",
   "metadata": {},
   "source": [
    "![Apps For Tweets](./images/apps2.png)"
   ]
  },
  {
   "attachments": {},
   "cell_type": "markdown",
   "metadata": {},
   "source": [
    "## What rating is most often given to dogs and what dog breeds are associated with those ratings? \n",
    "\n",
    "The most frequent rating is 12/10. Golden retrievers and labrador retrievers are more often associated with that rating. Also, dog breeds that are Pembroke are frequently rated. A good number of the dogs whose pictures could not be predicted were also with high ratings. "
   ]
  },
  {
   "attachments": {},
   "cell_type": "markdown",
   "metadata": {},
   "source": [
    "![Dog Most Frequently Rated](./images/high_ratings.png)"
   ]
  },
  {
   "attachments": {},
   "cell_type": "markdown",
   "metadata": {},
   "source": [
    "## What 5 dog breed posts are most often retweeted? \n",
    "\n",
    "The highest was found to be labrador retrievers. The next were eskimo dogs and chihuahua. Lake terrier and English springer come next. "
   ]
  },
  {
   "attachments": {},
   "cell_type": "markdown",
   "metadata": {},
   "source": [
    "![Most retweeted posts](./images/retweets.png)"
   ]
  },
  {
   "attachments": {},
   "cell_type": "markdown",
   "metadata": {},
   "source": [
    "## What 5 dog breeds are most often liked or favorited? \n",
    "\n",
    "The highest was labrador retrievers. Eskimo dogs and chihuahua also fall into the list. Lakeland terrier and the french bulldog is also in the list."
   ]
  },
  {
   "attachments": {},
   "cell_type": "markdown",
   "metadata": {},
   "source": [
    "![Most liked dogs](./images/favorites.png)"
   ]
  },
  {
   "attachments": {},
   "cell_type": "markdown",
   "metadata": {},
   "source": [
    "## Final notes\n",
    "\n",
    "On a personal note, I would say that people like labrador retrieves a lot. I don't have dogs as pets, but I guess that when I have the inclination to buy one, I would take a look at a labrador retriever."
   ]
  }
 ],
 "metadata": {
  "kernelspec": {
   "display_name": "Python 3",
   "language": "python",
   "name": "python3"
  },
  "language_info": {
   "name": "python",
   "version": "3.8.10 (default, Nov 14 2022, 12:59:47) \n[GCC 9.4.0]"
  },
  "orig_nbformat": 4,
  "vscode": {
   "interpreter": {
    "hash": "916dbcbb3f70747c44a77c7bcd40155683ae19c65e1c03b4aa3499c5328201f1"
   }
  }
 },
 "nbformat": 4,
 "nbformat_minor": 2
}
